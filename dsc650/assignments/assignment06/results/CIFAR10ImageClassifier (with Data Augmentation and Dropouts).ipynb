{
 "cells": [
  {
   "cell_type": "code",
   "execution_count": 1,
   "metadata": {},
   "outputs": [
    {
     "name": "stdout",
     "output_type": "stream",
     "text": [
      "Training image shape (number, length, width, channel): (50000, 32, 32, 3)\n",
      "Testing image shape (number, length, width, channel): (10000, 32, 32, 3)\n",
      "Number of training labels: (50000, 1)\n",
      "Number of testing labels: (10000, 1)\n"
     ]
    }
   ],
   "source": [
    "#Importing the necessary libraries\n",
    "from tensorflow import keras\n",
    "from keras import layers\n",
    "from keras import models\n",
    "from keras import optimizers\n",
    "from keras.preprocessing.image import ImageDataGenerator\n",
    "import matplotlib.pyplot as plt\n",
    "import warnings\n",
    "warnings.filterwarnings('ignore')\n",
    "\n",
    "#Importing the data and checking the shapes\n",
    "(x_train, y_train), (x_test, y_test) = keras.datasets.cifar10.load_data()\n",
    "print('Training image shape (number, length, width, channel):', x_train.shape)\n",
    "print('Testing image shape (number, length, width, channel):', x_test.shape)\n",
    "print('Number of training labels:', y_train.shape)\n",
    "print('Number of testing labels:', y_test.shape)"
   ]
  },
  {
   "cell_type": "code",
   "execution_count": 2,
   "metadata": {},
   "outputs": [],
   "source": [
    "#Implementing the same CIFAR10 CNN image classifier, this time with data augmentation and a dropout layer added\n",
    "\n",
    "#Adding data augmentation with ImageDataGenerator\n",
    "datagen = ImageDataGenerator(rotation_range = 40, \n",
    "                             width_shift_range = 0.2, \n",
    "                             height_shift_range = 0.2, \n",
    "                             shear_range = 0.2, \n",
    "                             zoom_range = 0.2, \n",
    "                             horizontal_flip = True, \n",
    "                             fill_mode = 'nearest')\n",
    "it_train = datagen.flow(x_train, y_train, batch_size = 64)"
   ]
  },
  {
   "cell_type": "code",
   "execution_count": 3,
   "metadata": {},
   "outputs": [],
   "source": [
    "#Building the convnet to classify the CIFAR dataset, this time with a dropout layer added\n",
    "model = models.Sequential()\n",
    "model.add(layers.Conv2D(32, (3, 3), activation = 'relu', input_shape = (32, 32, 3)))\n",
    "model.add(layers.MaxPooling2D((2, 2)))\n",
    "model.add(layers.Conv2D(64, (3, 3), activation = 'relu'))\n",
    "model.add(layers.MaxPooling2D((2, 2)))\n",
    "model.add(layers.Conv2D(128, (3, 3), activation = 'relu'))\n",
    "model.add(layers.MaxPooling2D((2, 2)))\n",
    "model.add(layers.Flatten())\n",
    "model.add(layers.Dropout(0.5))\n",
    "model.add(layers.Dense(128, activation = 'relu'))\n",
    "model.add(layers.Dense(10, activation = 'softmax'))"
   ]
  },
  {
   "cell_type": "code",
   "execution_count": 4,
   "metadata": {},
   "outputs": [],
   "source": [
    "#Defining the number of steps to be used in fitting the model\n",
    "steps = int(x_train.shape[0] / 64)"
   ]
  },
  {
   "cell_type": "code",
   "execution_count": 5,
   "metadata": {},
   "outputs": [],
   "source": [
    "#Compiling the model\n",
    "model.compile(loss = 'categorical_crossentropy', optimizer = 'adam', metrics = ['accuracy'])"
   ]
  },
  {
   "cell_type": "code",
   "execution_count": 6,
   "metadata": {},
   "outputs": [],
   "source": [
    "#Fitting the model\n",
    "history = model.fit(it_train, steps_per_epoch = steps, epochs = 40, verbose = 0)"
   ]
  },
  {
   "cell_type": "code",
   "execution_count": 7,
   "metadata": {
    "scrolled": false
   },
   "outputs": [
    {
     "data": {
      "image/png": "[encoded data removed]",
      "text/plain": [
       "<Figure size 432x288 with 1 Axes>"
      ]
     },
     "metadata": {
      "needs_background": "light"
     },
     "output_type": "display_data"
    },
    {
     "data": {
      "image/png": "[encoded data removed]",
      "text/plain": [
       "<Figure size 432x288 with 1 Axes>"
      ]
     },
     "metadata": {
      "needs_background": "light"
     },
     "output_type": "display_data"
    }
   ],
   "source": [
    "#Plotting the accuracy and loss per epoch\n",
    "plt.plot(range(len(history.history['accuracy'])), [x * 100 for x in history.history['accuracy']])\n",
    "plt.xlabel('Epoch')\n",
    "plt.ylabel('Accuracy (%)')\n",
    "plt.title('Accuracy per epoch')\n",
    "plt.show()\n",
    "\n",
    "plt.scatter(range(len(history.history['loss'])), history.history['loss'])\n",
    "plt.xlabel('Epoch')\n",
    "plt.ylabel('Loss')\n",
    "plt.title('Loss per epoch')\n",
    "plt.show()"
   ]
  },
  {
   "cell_type": "code",
   "execution_count": 8,
   "metadata": {},
   "outputs": [],
   "source": [
    "#Saving the model\n",
    "model.save('cnn1.h5')"
   ]
  },
  {
   "cell_type": "code",
   "execution_count": 9,
   "metadata": {},
   "outputs": [],
   "source": [
    "#The model will be tested on a random image and the prediction will be output\n",
    "\n",
    "from keras.preprocessing.image import load_img\n",
    "from keras.preprocessing.image import img_to_array\n",
    "from keras.models import load_model\n",
    "\n",
    "#Function to load an image\n",
    "def load_image(filename):\n",
    "    image = load_img(filename, target_size = (32, 32))\n",
    "    image = img_to_array(image)\n",
    "    image = image.reshape(1, 32, 32, 3)\n",
    "    image = image.astype('float32')\n",
    "    image = image / 255.0\n",
    "    return image\n",
    " \n",
    "#Predicting the class of an image\n",
    "def run_model():\n",
    "    image = load_image('bird.png')\n",
    "    model = load_model('cnn1.h5')\n",
    "    result = model.predict_classes(image)\n",
    "    print(result[0]) "
   ]
  },
  {
   "cell_type": "code",
   "execution_count": 12,
   "metadata": {},
   "outputs": [
    {
     "name": "stdout",
     "output_type": "stream",
     "text": [
      "3\n"
     ]
    }
   ],
   "source": [
    "run_model()\n",
    "#The output is 3, or cat, but the picture is a bird. \n",
    "#Therefore, the classifier is not correct, even after running mutliple times."
   ]
  }
 ],
 "metadata": {
  "kernelspec": {
   "display_name": "Python 3",
   "language": "python",
   "name": "python3"
  },
  "language_info": {
   "codemirror_mode": {
    "name": "ipython",
    "version": 3
   },
   "file_extension": ".py",
   "mimetype": "text/x-python",
   "name": "python",
   "nbconvert_exporter": "python",
   "pygments_lexer": "ipython3",
   "version": "3.8.3"
  }
 },
 "nbformat": 4,
 "nbformat_minor": 4
}
