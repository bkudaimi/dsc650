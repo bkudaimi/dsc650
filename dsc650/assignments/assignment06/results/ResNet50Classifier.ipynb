{
 "cells": [
  {
   "cell_type": "code",
   "execution_count": 1,
   "metadata": {},
   "outputs": [],
   "source": [
    "#Importing the necessary libraries\n",
    "from tensorflow.keras.applications.resnet50 import ResNet50\n",
    "from tensorflow.keras.preprocessing import image\n",
    "from tensorflow.keras.applications.resnet50 import preprocess_input, decode_predictions\n",
    "import numpy as np\n",
    "\n",
    "#Loading the ResNet50 model\n",
    "model = ResNet50(weights = 'imagenet')"
   ]
  },
  {
   "cell_type": "code",
   "execution_count": 2,
   "metadata": {},
   "outputs": [],
   "source": [
    "#Defining the paths of 5 test images\n",
    "img_path1 = 'C:/Users/PS3ma/Documents/GitHub/dsc650/dsc650/assignments/assignment06/images/bird.jpg'\n",
    "img_path2 = 'C:/Users/PS3ma/Documents/GitHub/dsc650/dsc650/assignments/assignment06/images/cat.jpg'\n",
    "img_path3 = 'C:/Users/PS3ma/Documents/GitHub/dsc650/dsc650/assignments/assignment06/images/dog.jpg'\n",
    "img_path4 = 'C:/Users/PS3ma/Documents/GitHub/dsc650/dsc650/assignments/assignment06/images/mouse.jpg'\n",
    "img_path5 = 'C:/Users/PS3ma/Documents/GitHub/dsc650/dsc650/assignments/assignment06/images/truck.jpg'\n",
    "\n",
    "#Loading the images\n",
    "img1 = image.load_img(img_path1, target_size = (224, 224))\n",
    "img2 = image.load_img(img_path2, target_size = (224, 224))\n",
    "img3 = image.load_img(img_path3, target_size = (224, 224))\n",
    "img4 = image.load_img(img_path4, target_size = (224, 224))\n",
    "img5 = image.load_img(img_path5, target_size = (224, 224))"
   ]
  },
  {
   "cell_type": "code",
   "execution_count": 3,
   "metadata": {},
   "outputs": [],
   "source": [
    "#Converting each image to an array\n",
    "x1 = image.img_to_array(img1)\n",
    "x1 = np.expand_dims(x1, axis = 0)\n",
    "x1 = preprocess_input(x1)\n",
    "\n",
    "x2 = image.img_to_array(img2)\n",
    "x2 = np.expand_dims(x2, axis = 0)\n",
    "x2 = preprocess_input(x2)\n",
    "\n",
    "x3 = image.img_to_array(img3)\n",
    "x3 = np.expand_dims(x3, axis = 0)\n",
    "x3 = preprocess_input(x3)\n",
    "\n",
    "x4 = image.img_to_array(img4)\n",
    "x4 = np.expand_dims(x4, axis = 0)\n",
    "x4 = preprocess_input(x4)\n",
    "\n",
    "x5 = image.img_to_array(img5)\n",
    "x5 = np.expand_dims(x5, axis = 0)\n",
    "x5 = preprocess_input(x5)"
   ]
  },
  {
   "cell_type": "code",
   "execution_count": 4,
   "metadata": {},
   "outputs": [],
   "source": [
    "#Outputting the top 3 predictions for each image\n",
    "pred_1 = model.predict(x1)\n",
    "pred_2 = model.predict(x2)\n",
    "pred_3 = model.predict(x3)\n",
    "pred_4 = model.predict(x4)\n",
    "pred_5 = model.predict(x5)\n",
    "prediction1 = decode_predictions(pred_1, top = 3)[0]\n",
    "prediction2 = decode_predictions(pred_2, top = 3)[0]\n",
    "prediction3 = decode_predictions(pred_3, top = 3)[0]\n",
    "prediction4 = decode_predictions(pred_4, top = 3)[0]\n",
    "prediction5 = decode_predictions(pred_5, top = 3)[0]"
   ]
  },
  {
   "cell_type": "code",
   "execution_count": 5,
   "metadata": {
    "scrolled": true
   },
   "outputs": [
    {
     "name": "stdout",
     "output_type": "stream",
     "text": [
      "Predicted (bird picture): house_finch, brambling, water_ouzel\n",
      "Predicted (cat picture): Chihuahua, Siamese_cat, Egyptian_cat\n",
      "Predicted (dog picture): golden_retriever, Labrador_retriever, clumber\n",
      "Predicted (mouse picture): wood_rabbit, hare, guinea_pig\n",
      "Predicted (truck picture): trailer_truck, moving_van, fire_engine\n"
     ]
    }
   ],
   "source": [
    "#Printing the predictions\n",
    "print('Predicted (bird picture): {}, {}, {}'.format(prediction1[0][1], prediction1[1][1], prediction1[2][1]))\n",
    "print('Predicted (cat picture): {}, {}, {}'.format(prediction2[0][1], prediction2[1][1], prediction2[2][1]))\n",
    "print('Predicted (dog picture): {}, {}, {}'.format(prediction3[0][1], prediction3[1][1], prediction3[2][1]))\n",
    "print('Predicted (mouse picture): {}, {}, {}'.format(prediction4[0][1], prediction4[1][1], prediction4[2][1]))\n",
    "print('Predicted (truck picture): {}, {}, {}'.format(prediction5[0][1], prediction5[1][1], prediction5[2][1]))\n",
    "\n",
    "#The first predictions were usually the most accurate, followed by the second and third."
   ]
  }
 ],
 "metadata": {
  "kernelspec": {
   "display_name": "Python 3",
   "language": "python",
   "name": "python3"
  },
  "language_info": {
   "codemirror_mode": {
    "name": "ipython",
    "version": 3
   },
   "file_extension": ".py",
   "mimetype": "text/x-python",
   "name": "python",
   "nbconvert_exporter": "python",
   "pygments_lexer": "ipython3",
   "version": "3.8.3"
  }
 },
 "nbformat": 4,
 "nbformat_minor": 4
}
